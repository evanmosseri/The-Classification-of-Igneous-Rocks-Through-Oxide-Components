{
 "metadata": {
  "name": "",
  "signature": "sha256:de241e18dffdfffe5fdcd7cddb3c36813bb17f62c0ef3794cbcb8a62628ff374"
 },
 "nbformat": 3,
 "nbformat_minor": 0,
 "worksheets": [
  {
   "cells": [
    {
     "cell_type": "code",
     "collapsed": false,
     "input": [
      "\"\"\" TODO:\n",
      "- implement k-fold cross validation\n",
      "- implement percent chance system\n",
      "- try to implement boosting/bootstraping         \n",
      "\"\"\"\n",
      "import numpy as np\n",
      "import pandas as pd\n",
      "import scipy as st\n",
      "import csv\n",
      "from mpl_toolkits.mplot3d import Axes3D\n",
      "import matplotlib\n",
      "import matplotlib.pyplot as plt\n",
      "import rocksep_utils as utl\n",
      "from rocksep_utils import *\n",
      "import time\n",
      "import mpld3\n",
      "from StringIO import StringIO\n",
      "from pydot import graph_from_dot_data\n",
      "\n",
      "from sklearn import cross_validation\n",
      "from sklearn.neighbors import KNeighborsClassifier\n",
      "from sklearn.metrics import classification_report\n",
      "from sklearn.lda import LDA\n",
      "from sklearn.metrics import confusion_matrix\n",
      "from sklearn.ensemble import RandomForestClassifier, AdaBoostClassifier\n",
      "from sklearn.naive_bayes import GaussianNB\n",
      "from sklearn.qda import QDA\n",
      "from sklearn.svm import SVC\n",
      "from sklearn.lda import LDA\n",
      "import sklearn.tree as tree\n",
      "from sklearn.tree import DecisionTreeClassifier\n",
      "from sklearn import cross_validation\n",
      "from sklearn.cross_validation import StratifiedKFold\n",
      "\n",
      "cmap = {1:\"red\",2:\"green\",3:\"blue\",4:\"orange\"}\n",
      "plot_vars = [\"SIO2\",\"AL2O3\",\"MGO\"]\n",
      "\n",
      "\n",
      "batches = [[trainInds, testInds] for trainInds, testInds in StratifiedKFold(nlabels, n_folds=4)]\n",
      "\n",
      "algorithms = [nearest_neighbors,random_forest,naive_base,ada,decision_tree]\n",
      "plot_algorithms(algorithms,raw_data,nlabels,plot_vars,supress=False,batches=batches)"
     ],
     "language": "python",
     "metadata": {},
     "outputs": [
      {
       "output_type": "stream",
       "stream": "stdout",
       "text": [
        "Nearest Neighbors\n",
        "Pure Accuracy: 80.3%\n",
        "             precision    recall  f1-score   support\n",
        "\n",
        "     DUNITE       0.20      0.33      0.25         6\n",
        "HARZBURGITE       0.88      0.74      0.80        50\n",
        " LHERZOLITE       0.92      0.90      0.91        60\n",
        "   WEHRLITE       0.17      1.00      0.29         1\n",
        "\n",
        "avg / total       0.86      0.80      0.82       117\n",
        "[[ 2  7  1  0]\n",
        " [ 2 37  3  0]\n",
        " [ 1  4 54  0]\n",
        " [ 1  2  2  1]]\n"
       ]
      },
      {
       "ename": "TypeError",
       "evalue": "list indices must be integers, not tuple",
       "output_type": "pyerr",
       "traceback": [
        "\u001b[0;31m---------------------------------------------------------------------------\u001b[0m\n\u001b[0;31mTypeError\u001b[0m                                 Traceback (most recent call last)",
        "\u001b[0;32m<ipython-input-2-63e18a883bbf>\u001b[0m in \u001b[0;36m<module>\u001b[0;34m()\u001b[0m\n\u001b[1;32m     40\u001b[0m \u001b[0;34m\u001b[0m\u001b[0m\n\u001b[1;32m     41\u001b[0m \u001b[0malgorithms\u001b[0m \u001b[0;34m=\u001b[0m \u001b[0;34m[\u001b[0m\u001b[0mnearest_neighbors\u001b[0m\u001b[0;34m,\u001b[0m\u001b[0mrandom_forest\u001b[0m\u001b[0;34m,\u001b[0m\u001b[0mnaive_base\u001b[0m\u001b[0;34m,\u001b[0m\u001b[0mada\u001b[0m\u001b[0;34m,\u001b[0m\u001b[0mdecision_tree\u001b[0m\u001b[0;34m]\u001b[0m\u001b[0;34m\u001b[0m\u001b[0m\n\u001b[0;32m---> 42\u001b[0;31m \u001b[0mplot_algorithms\u001b[0m\u001b[0;34m(\u001b[0m\u001b[0malgorithms\u001b[0m\u001b[0;34m,\u001b[0m\u001b[0mraw_data\u001b[0m\u001b[0;34m,\u001b[0m\u001b[0mnlabels\u001b[0m\u001b[0;34m,\u001b[0m\u001b[0mplot_vars\u001b[0m\u001b[0;34m,\u001b[0m\u001b[0msupress\u001b[0m\u001b[0;34m=\u001b[0m\u001b[0mFalse\u001b[0m\u001b[0;34m,\u001b[0m\u001b[0mbatches\u001b[0m\u001b[0;34m=\u001b[0m\u001b[0mbatches\u001b[0m\u001b[0;34m)\u001b[0m\u001b[0;34m\u001b[0m\u001b[0m\n\u001b[0m",
        "\u001b[0;32m/Users/Avi/Google Drive/Rocks and Minerals/rockssep/rockssep/rocksep_utils.py\u001b[0m in \u001b[0;36mplot_algorithms\u001b[0;34m(algorithms, raw_data, nlabels, plot_vars, cmap, supress, batches)\u001b[0m\n\u001b[1;32m    329\u001b[0m                 \u001b[0;32mprint\u001b[0m \u001b[0manalysis_type\u001b[0m\u001b[0;34m+\u001b[0m\u001b[0;34m\"\\n\"\u001b[0m\u001b[0;34m,\u001b[0m\u001b[0;34m\"Pure Accuracy: %.1f%%\"\u001b[0m \u001b[0;34m%\u001b[0m \u001b[0;34m(\u001b[0m\u001b[0mpure_accuracy_rate\u001b[0m\u001b[0;34m)\u001b[0m\u001b[0;34m+\u001b[0m\u001b[0;34m\"\\n\"\u001b[0m\u001b[0;34m,\u001b[0m \u001b[0mreport\u001b[0m\u001b[0;34m,\u001b[0m \u001b[0mcm\u001b[0m\u001b[0;34m\u001b[0m\u001b[0m\n\u001b[1;32m    330\u001b[0m                 \u001b[0;32mif\u001b[0m \u001b[0;32mnot\u001b[0m\u001b[0;34m(\u001b[0m\u001b[0msupress\u001b[0m\u001b[0;34m)\u001b[0m\u001b[0;34m:\u001b[0m\u001b[0;34m\u001b[0m\u001b[0m\n\u001b[0;32m--> 331\u001b[0;31m                         \u001b[0mfig\u001b[0m \u001b[0;34m=\u001b[0m \u001b[0mplotAnalysis\u001b[0m\u001b[0;34m(\u001b[0m\u001b[0mtest_data\u001b[0m\u001b[0;34m,\u001b[0m\u001b[0mtest_labels\u001b[0m\u001b[0;34m,\u001b[0m\u001b[0my_pred\u001b[0m\u001b[0;34m,\u001b[0m\u001b[0mcmap\u001b[0m\u001b[0;34m,\u001b[0m\u001b[0mplot_vars\u001b[0m\u001b[0;34m,\u001b[0m\u001b[0manalysis_type\u001b[0m\u001b[0;34m,\u001b[0m\u001b[0;34m\"3 Dimensional Demonstration of Classifier Accuracy\"\u001b[0m\u001b[0;34m,\u001b[0m\u001b[0mpure_accuracy_rate\u001b[0m\u001b[0;34m,\u001b[0m\u001b[0mFalse\u001b[0m\u001b[0;34m,\u001b[0m\u001b[0mFalse\u001b[0m\u001b[0;34m,\u001b[0m\u001b[0mTrue\u001b[0m\u001b[0;34m,\u001b[0m\u001b[0mi\u001b[0m\u001b[0;34m.\u001b[0m\u001b[0mfunc_name\u001b[0m\u001b[0;34m.\u001b[0m\u001b[0mtitle\u001b[0m\u001b[0;34m(\u001b[0m\u001b[0;34m)\u001b[0m\u001b[0;34m.\u001b[0m\u001b[0mreplace\u001b[0m\u001b[0;34m(\u001b[0m\u001b[0;34m\"_\"\u001b[0m\u001b[0;34m,\u001b[0m\u001b[0;34m\" \"\u001b[0m\u001b[0;34m)\u001b[0m\u001b[0;34m)\u001b[0m\u001b[0;34m\u001b[0m\u001b[0m\n\u001b[0m\u001b[1;32m    332\u001b[0m                 \u001b[0mshow_confusion_matrix\u001b[0m\u001b[0;34m(\u001b[0m\u001b[0mcm\u001b[0m\u001b[0;34m,\u001b[0m\u001b[0mFalse\u001b[0m\u001b[0;34m,\u001b[0m\u001b[0mFalse\u001b[0m\u001b[0;34m,\u001b[0m\u001b[0mTrue\u001b[0m\u001b[0;34m,\u001b[0m\u001b[0ma_type\u001b[0m\u001b[0;34m=\u001b[0m\u001b[0mi\u001b[0m\u001b[0;34m.\u001b[0m\u001b[0mfunc_name\u001b[0m\u001b[0;34m.\u001b[0m\u001b[0mtitle\u001b[0m\u001b[0;34m(\u001b[0m\u001b[0;34m)\u001b[0m\u001b[0;34m.\u001b[0m\u001b[0mreplace\u001b[0m\u001b[0;34m(\u001b[0m\u001b[0;34m\"_\"\u001b[0m\u001b[0;34m,\u001b[0m\u001b[0;34m\" \"\u001b[0m\u001b[0;34m)\u001b[0m\u001b[0;34m,\u001b[0m\u001b[0maccuracy\u001b[0m\u001b[0;34m=\u001b[0m\u001b[0;34m\"%.1f%%\"\u001b[0m \u001b[0;34m%\u001b[0m \u001b[0;34m(\u001b[0m\u001b[0mpure_accuracy_rate\u001b[0m\u001b[0;34m)\u001b[0m\u001b[0;34m)\u001b[0m\u001b[0;34m\u001b[0m\u001b[0m\n\u001b[1;32m    333\u001b[0m \u001b[0;34m\u001b[0m\u001b[0m\n",
        "\u001b[0;32m/Users/Avi/Google Drive/Rocks and Minerals/rockssep/rockssep/rocksep_utils.py\u001b[0m in \u001b[0;36mplotAnalysis\u001b[0;34m(test_data, test_labels, y_pred, cmap, plot_vars, type, title, accuracy, plot, cache, save, analysis_type)\u001b[0m\n\u001b[1;32m    269\u001b[0m         \u001b[0max\u001b[0m \u001b[0;34m=\u001b[0m \u001b[0mfig\u001b[0m\u001b[0;34m.\u001b[0m\u001b[0madd_subplot\u001b[0m\u001b[0;34m(\u001b[0m\u001b[0;36m111\u001b[0m\u001b[0;34m,\u001b[0m \u001b[0mprojection\u001b[0m\u001b[0;34m=\u001b[0m\u001b[0;34m'3d'\u001b[0m\u001b[0;34m)\u001b[0m\u001b[0;34m\u001b[0m\u001b[0m\n\u001b[1;32m    270\u001b[0m \u001b[0;34m\u001b[0m\u001b[0m\n\u001b[0;32m--> 271\u001b[0;31m         \u001b[0mx1\u001b[0m\u001b[0;34m,\u001b[0m\u001b[0my1\u001b[0m\u001b[0;34m,\u001b[0m\u001b[0mz1\u001b[0m \u001b[0;34m=\u001b[0m \u001b[0;34m[\u001b[0m\u001b[0mtest_data\u001b[0m\u001b[0;34m[\u001b[0m\u001b[0;34m:\u001b[0m\u001b[0;34m,\u001b[0m\u001b[0mchemicals\u001b[0m\u001b[0;34m.\u001b[0m\u001b[0mindex\u001b[0m\u001b[0;34m(\u001b[0m\u001b[0mx\u001b[0m\u001b[0;34m)\u001b[0m\u001b[0;34m]\u001b[0m \u001b[0;32mfor\u001b[0m \u001b[0mx\u001b[0m \u001b[0;32min\u001b[0m \u001b[0mplot_vars\u001b[0m\u001b[0;34m]\u001b[0m\u001b[0;34m\u001b[0m\u001b[0m\n\u001b[0m\u001b[1;32m    272\u001b[0m         \u001b[0mhit_shapes\u001b[0m \u001b[0;34m=\u001b[0m \u001b[0;34m{\u001b[0m\u001b[0mTrue\u001b[0m\u001b[0;34m:\u001b[0m\u001b[0;34m\"*\"\u001b[0m\u001b[0;34m,\u001b[0m\u001b[0mFalse\u001b[0m\u001b[0;34m:\u001b[0m\u001b[0;34m\"o\"\u001b[0m\u001b[0;34m}\u001b[0m\u001b[0;34m\u001b[0m\u001b[0m\n\u001b[1;32m    273\u001b[0m \u001b[0;34m\u001b[0m\u001b[0m\n",
        "\u001b[0;31mTypeError\u001b[0m: list indices must be integers, not tuple"
       ]
      }
     ],
     "prompt_number": 2
    },
    {
     "cell_type": "code",
     "collapsed": false,
     "input": [],
     "language": "python",
     "metadata": {},
     "outputs": []
    }
   ],
   "metadata": {}
  }
 ]
}