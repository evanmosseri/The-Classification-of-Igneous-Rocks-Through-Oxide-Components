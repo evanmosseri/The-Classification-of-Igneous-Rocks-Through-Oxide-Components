{
 "metadata": {
  "name": "",
  "signature": "sha256:c8b8820359fee5ca606ad699cd04e2758aebb7ce83547b99c991bf8ee91e1b3f"
 },
 "nbformat": 3,
 "nbformat_minor": 0,
 "worksheets": [
  {
   "cells": [
    {
     "cell_type": "code",
     "collapsed": false,
     "input": [
      "import util\n",
      "import csv\n",
      "import numpy as np\n",
      "def read_data(filename):\n",
      "    labels, feature_mat = None, None\n",
      "    with open(filename,'rU') as csvfile:\n",
      "        dialect = csv.Sniffer().sniff(csvfile.read(8024))\n",
      "        csvfile.seek(0)\n",
      "        dr = csv.DictReader(csvfile, dialect=dialect)\n",
      "        data = [row for row in dr]\n",
      "        labels = np.array([row[label_field] for row in data])\n",
      "        feature_fields = [field for field in data[0].keys() if field != label_field]\n",
      "        try:\n",
      "            feature_mat = np.squeeze(np.array([[float(row[field]) for field in feature_fields] for row in data]))\n",
      "        except Exception, e:\n",
      "            print \"row[\",field,\"]=\", row[field]\n",
      "            print \"row =\", row\n",
      "            raise e\n",
      "    return labels, feature_mat, feature_fields\n",
      "\n",
      "# dataset_name = \"./peridotites_clean_complete.csv\"\n",
      "# labels, feature_mat, feature_fields = read_data(dataset_name)\n",
      "# print feature_mat\n",
      "raw_data=read_data(dataset_name)\n",
      "print raw_data\n",
      "# label_key, ylabels,feature_mat = util.process_data(raw_data)\n",
      "\n",
      "# X,y,X_test,y_test = util.create_train_test(feature_mat,ylabels)"
     ],
     "language": "python",
     "metadata": {},
     "outputs": [
      {
       "output_type": "stream",
       "stream": "stdout",
       "text": [
        "{0: array([[  4.54200000e+01,   1.70000000e-01,   2.57000000e+00,\n",
        "          3.20000000e-01],\n",
        "       [  4.17000000e+01,   1.10000000e-01,   1.78000000e+00,\n",
        "          7.70000000e-01],\n",
        "       [  4.36400000e+01,   4.80000000e-01,   3.54000000e+00,\n",
        "          2.50000000e-01],\n",
        "       ..., \n",
        "       [  4.29300000e+01,   4.50000000e-01,   4.08000000e+00,\n",
        "          1.40000000e-01],\n",
        "       [  4.21300000e+01,   5.00000000e-02,   8.20000000e-01,\n",
        "          3.50000000e-01],\n",
        "       [  4.31200000e+01,   4.00000000e-02,   1.48000000e+00,\n",
        "          4.00000000e-01]])}\n"
       ]
      }
     ],
     "prompt_number": 61
    },
    {
     "cell_type": "code",
     "collapsed": false,
     "input": [
      "util.QDA_analysis(X,y,X_test,y_test,label_key)"
     ],
     "language": "python",
     "metadata": {},
     "outputs": [
      {
       "output_type": "stream",
       "stream": "stdout",
       "text": [
        "Quadradic Discriminant Analysis\n"
       ]
      },
      {
       "ename": "ValueError",
       "evalue": "y has less than 2 classes",
       "output_type": "pyerr",
       "traceback": [
        "\u001b[0;31m---------------------------------------------------------------------------\u001b[0m\n\u001b[0;31mValueError\u001b[0m                                Traceback (most recent call last)",
        "\u001b[0;32m<ipython-input-56-16a4a2786ab5>\u001b[0m in \u001b[0;36m<module>\u001b[0;34m()\u001b[0m\n\u001b[0;32m----> 1\u001b[0;31m \u001b[0mutil\u001b[0m\u001b[0;34m.\u001b[0m\u001b[0mQDA_analysis\u001b[0m\u001b[0;34m(\u001b[0m\u001b[0mX\u001b[0m\u001b[0;34m,\u001b[0m\u001b[0my\u001b[0m\u001b[0;34m,\u001b[0m\u001b[0mX_test\u001b[0m\u001b[0;34m,\u001b[0m\u001b[0my_test\u001b[0m\u001b[0;34m,\u001b[0m\u001b[0mlabel_key\u001b[0m\u001b[0;34m)\u001b[0m\u001b[0;34m\u001b[0m\u001b[0m\n\u001b[0m",
        "\u001b[0;32m/Users/Avi/Google Drive/Rocks and Minerals/rockssep/rockssep/util.pyc\u001b[0m in \u001b[0;36mQDA_analysis\u001b[0;34m(X, y, X_test, y_test, unique_labels)\u001b[0m\n\u001b[1;32m     56\u001b[0m     \u001b[0;32mprint\u001b[0m\u001b[0;34m(\u001b[0m\u001b[0;34m\"Quadradic Discriminant Analysis\"\u001b[0m\u001b[0;34m)\u001b[0m\u001b[0;34m\u001b[0m\u001b[0m\n\u001b[1;32m     57\u001b[0m     \u001b[0mclf\u001b[0m \u001b[0;34m=\u001b[0m \u001b[0mQDA\u001b[0m\u001b[0;34m(\u001b[0m\u001b[0;34m)\u001b[0m\u001b[0;34m\u001b[0m\u001b[0m\n\u001b[0;32m---> 58\u001b[0;31m     \u001b[0mclf\u001b[0m\u001b[0;34m.\u001b[0m\u001b[0mfit\u001b[0m\u001b[0;34m(\u001b[0m\u001b[0mX\u001b[0m\u001b[0;34m,\u001b[0m\u001b[0my\u001b[0m\u001b[0;34m)\u001b[0m\u001b[0;34m\u001b[0m\u001b[0m\n\u001b[0m\u001b[1;32m     59\u001b[0m     \u001b[0my_pred\u001b[0m \u001b[0;34m=\u001b[0m  \u001b[0mclf\u001b[0m\u001b[0;34m.\u001b[0m\u001b[0mpredict\u001b[0m\u001b[0;34m(\u001b[0m\u001b[0mX_test\u001b[0m\u001b[0;34m)\u001b[0m\u001b[0;34m\u001b[0m\u001b[0m\n\u001b[1;32m     60\u001b[0m     print classification_report(y_test,\n",
        "\u001b[0;32m/Users/Avi/anaconda/lib/python2.7/site-packages/sklearn/qda.pyc\u001b[0m in \u001b[0;36mfit\u001b[0;34m(self, X, y, store_covariances, tol)\u001b[0m\n\u001b[1;32m    102\u001b[0m         \u001b[0mn_classes\u001b[0m \u001b[0;34m=\u001b[0m \u001b[0mlen\u001b[0m\u001b[0;34m(\u001b[0m\u001b[0mself\u001b[0m\u001b[0;34m.\u001b[0m\u001b[0mclasses_\u001b[0m\u001b[0;34m)\u001b[0m\u001b[0;34m\u001b[0m\u001b[0m\n\u001b[1;32m    103\u001b[0m         \u001b[0;32mif\u001b[0m \u001b[0mn_classes\u001b[0m \u001b[0;34m<\u001b[0m \u001b[0;36m2\u001b[0m\u001b[0;34m:\u001b[0m\u001b[0;34m\u001b[0m\u001b[0m\n\u001b[0;32m--> 104\u001b[0;31m             \u001b[0;32mraise\u001b[0m \u001b[0mValueError\u001b[0m\u001b[0;34m(\u001b[0m\u001b[0;34m'y has less than 2 classes'\u001b[0m\u001b[0;34m)\u001b[0m\u001b[0;34m\u001b[0m\u001b[0m\n\u001b[0m\u001b[1;32m    105\u001b[0m         \u001b[0;32mif\u001b[0m \u001b[0mself\u001b[0m\u001b[0;34m.\u001b[0m\u001b[0mpriors\u001b[0m \u001b[0;32mis\u001b[0m \u001b[0mNone\u001b[0m\u001b[0;34m:\u001b[0m\u001b[0;34m\u001b[0m\u001b[0m\n\u001b[1;32m    106\u001b[0m             \u001b[0mself\u001b[0m\u001b[0;34m.\u001b[0m\u001b[0mpriors_\u001b[0m \u001b[0;34m=\u001b[0m \u001b[0mnp\u001b[0m\u001b[0;34m.\u001b[0m\u001b[0mbincount\u001b[0m\u001b[0;34m(\u001b[0m\u001b[0my\u001b[0m\u001b[0;34m)\u001b[0m \u001b[0;34m/\u001b[0m \u001b[0mfloat\u001b[0m\u001b[0;34m(\u001b[0m\u001b[0mn_samples\u001b[0m\u001b[0;34m)\u001b[0m\u001b[0;34m\u001b[0m\u001b[0m\n",
        "\u001b[0;31mValueError\u001b[0m: y has less than 2 classes"
       ]
      }
     ],
     "prompt_number": 56
    },
    {
     "cell_type": "code",
     "collapsed": false,
     "input": [],
     "language": "python",
     "metadata": {},
     "outputs": []
    }
   ],
   "metadata": {}
  }
 ]
}