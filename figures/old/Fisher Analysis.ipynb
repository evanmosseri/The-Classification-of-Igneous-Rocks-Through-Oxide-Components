{
 "metadata": {
  "name": "",
  "signature": "sha256:f099795f4422539bbce610a4640390a216dba867bb3701e845f4c15e88be1826"
 },
 "nbformat": 3,
 "nbformat_minor": 0,
 "worksheets": [
  {
   "cells": [
    {
     "cell_type": "code",
     "collapsed": false,
     "input": [
      "import numpy as np \n",
      "import scipy as st \n",
      "import matplotlib.pyplot as plt \n",
      "import pylab as pl\n",
      "import csv\n",
      "from sklearn import neighbors, datasets\n",
      "import csv\n",
      "from matplotlib.colors import ListedColormap\n",
      "import sys\n",
      "import pandas as pd\n",
      "import matplotlib.colors as mcolors\n",
      "import matplotlib.colorbar as colorbar\n",
      "import matplotlib.axes as maxes\n",
      "import matplotlib.ticker as mticker\n",
      "import util\n",
      "\n",
      "np.set_printoptions(precision=2)\n",
      "\n",
      "# def read_data(filename):\n",
      "# \tlabel_field = 'ROCK NAME'\n",
      "# \tlabels, feature_mat = None, None\n",
      "# \twith open(filename,'rU') as csvfile:\n",
      "# \t\tdialect = csv.Sniffer().sniff(csvfile.read(8024))\n",
      "# \t\tcsvfile.seek(0)\n",
      "# \t\tdr = csv.DictReader(csvfile, dialect=dialect)\n",
      "# \t\tdata = [row for row in dr]\n",
      "# \t\tlabels = np.array([row[label_field] for row in data])\n",
      "# \t\tfeature_fields = [field for field in data[0].keys() if field != label_field]\n",
      "# \t\ttry:\n",
      "# \t\t\tfeature_mat = np.squeeze(np.array([[float(row[field]) for field in feature_fields] for row in data]))\n",
      "# \t\texcept Exception, e:\n",
      "# \t\t\tprint \"row[\",field,\"]=\", row[field]\n",
      "# \t\t\tprint \"row =\", row\n",
      "# \t\t\traise e\n",
      "# \treturn labels, feature_mat, feature_fields\n",
      "\n",
      "def read_data(filename):\n",
      "    labels, feature_mat = None, None\n",
      "    with open(filename,'rU') as csvfile:\n",
      "        dialect = csv.Sniffer().sniff(csvfile.read(8024))\n",
      "        csvfile.seek(0)\n",
      "        dr = csv.DictReader(csvfile, dialect=dialect)\n",
      "        data = [row for row in dr]\n",
      "        labels = np.array([row[label_field] for row in data])\n",
      "        feature_fields = [field for field in data[0].keys() if field != label_field]\n",
      "        try:\n",
      "            feature_mat = np.squeeze(np.array([[float(row[field]) for field in feature_fields] for row in data]))\n",
      "        except Exception, e:\n",
      "            print \"row[\",field,\"]=\", row[field]\n",
      "            print \"row =\", row\n",
      "            raise e\n",
      "    return labels, feature_mat, feature_fields\n",
      "\n",
      "\n",
      "def component(d,n,comp):\n",
      "    return d[1][n][d[2].index(comp)]\n",
      "dataURL = \"peridotites_clean_complete.csv\"\n",
      "# data_arr = read_data(dataURL)\n",
      "pd_data = pd.read_csv(dataURL)\n",
      "rock_names =  pd_data['ROCK NAME']\n",
      "rock_compositions = pd_data.columns[1:]\n",
      "rock_data = np.vstack([pd_data[x] for x in rock_compositions])\n",
      "print rock_compositions"
     ],
     "language": "python",
     "metadata": {},
     "outputs": [
      {
       "output_type": "stream",
       "stream": "stdout",
       "text": [
        "Index([u'SIO2', u'TIO2', u'AL2O3', u'CR2O3', u'FEOT', u'CAO', u'MGO', u'MNO', u'K2O', u'NA2O', u'P2O5'], dtype='object')\n"
       ]
      }
     ],
     "prompt_number": 3
    },
    {
     "cell_type": "code",
     "collapsed": false,
     "input": [],
     "language": "python",
     "metadata": {},
     "outputs": []
    }
   ],
   "metadata": {}
  }
 ]
}